{
  "nbformat": 4,
  "nbformat_minor": 0,
  "metadata": {
    "colab": {
      "provenance": [],
      "authorship_tag": "ABX9TyOf9iUCev/E4eHzkT2bJBkY",
      "include_colab_link": true
    },
    "kernelspec": {
      "name": "python3",
      "display_name": "Python 3"
    },
    "language_info": {
      "name": "python"
    }
  },
  "cells": [
    {
      "cell_type": "markdown",
      "metadata": {
        "id": "view-in-github",
        "colab_type": "text"
      },
      "source": [
        "<a href=\"https://colab.research.google.com/github/Manisha868/Python-s-Project/blob/main/03_Birthday_app.ipynb\" target=\"_parent\"><img src=\"https://colab.research.google.com/assets/colab-badge.svg\" alt=\"Open In Colab\"/></a>"
      ]
    },
    {
      "cell_type": "code",
      "execution_count": 2,
      "metadata": {
        "colab": {
          "base_uri": "https://localhost:8080/"
        },
        "id": "Y7D7husAS8ve",
        "outputId": "e5fc3524-be09-44f7-f187-4c16512817df"
      },
      "outputs": [
        {
          "output_type": "stream",
          "name": "stdout",
          "text": [
            "-------------------------------\n",
            "    Birthday Countdown app     \n",
            "-------------------------------\n",
            "When are you born? \n",
            "year [YYYY]: 2002\n",
            "month [MM]: 02\n",
            "day [dd]: 28\n",
            "You are born in 2002-02-28\n",
            "You had birhtday 2 days ago this year.\n"
          ]
        }
      ],
      "source": [
        "#import datetime module\n",
        "import datetime\n",
        "\n",
        "\n",
        "def print_header():\n",
        "    print('-------------------------------')\n",
        "    print('    Birthday Countdown app     ')\n",
        "    print('-------------------------------')\n",
        "\n",
        "#get the birthday information form the user\n",
        "def get_birthday_from_user():\n",
        "    print('When are you born? ')\n",
        "    year = int(input(\"year [YYYY]: \"))\n",
        "    month = int(input('month [MM]: '))\n",
        "    day = int(input('day [dd]: '))\n",
        "\n",
        "    birthday = datetime.date(year, month, day)\n",
        "    return birthday\n",
        "\n",
        "def compute_days_between_dates(original_date, target_date):\n",
        "    this_year = datetime.date(year=target_date.year, month= original_date.month, day=original_date.day)\n",
        "\n",
        "    dt = this_year - target_date\n",
        "    return dt.days\n",
        "\n",
        "def print_birthday_information(days):\n",
        "    if days < 0:\n",
        "        print(\"You had birhtday {} days ago this year.\".format(-days))\n",
        "    elif days > 0:\n",
        "        print ('Your birthdays is in {} days.'.format(days))\n",
        "    else:\n",
        "        print(\"Today is your birthday, Happy Birthday!!.\")\n",
        "\n",
        "def main():\n",
        "    print_header()\n",
        "\n",
        "    bday = get_birthday_from_user()\n",
        "    print('You are born in {}'.format(bday))\n",
        "\n",
        "    today = datetime.date.today()\n",
        "    number_of_days = compute_days_between_dates(bday, today)\n",
        "\n",
        "    print_birthday_information(number_of_days)\n",
        "\n",
        "main()"
      ]
    }
  ]
}