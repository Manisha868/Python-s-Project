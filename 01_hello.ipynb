
{
  "nbformat": 4,
  "nbformat_minor": 0,
  "metadata": {
    "colab": {
      "provenance": [],
      "authorship_tag": "ABX9TyOJsOQKuyjqeEPmCHEkWTIN",
      "include_colab_link": true
    },
    "kernelspec": {
      "name": "python3",
      "display_name": "Python 3"
    },
    "language_info": {
      "name": "python"
    }
  },
  "cells": [
    {
      "cell_type": "markdown",
      "metadata": {
        "id": "view-in-github",
        "colab_type": "text"
      },
      "source": [
        "<a href=\"https://colab.research.google.com/github/Manisha868/Python-s-Project/blob/main/01_hello.ipynb\" target=\"_parent\"><img src=\"https://colab.research.google.com/assets/colab-badge.svg\" alt=\"Open In Colab\"/></a>"
      ]
    },
    {
      "cell_type": "markdown",
      "source": [
        "Create a Program of Hello app in which we ask the name of user and greet them."
      ],
      "metadata": {
        "id": "c_nv49BiLfUw"
      }
    },
    {
      "cell_type": "code",
      "execution_count": 2,
      "metadata": {
        "colab": {
          "base_uri": "https://localhost:8080/"
        },
        "id": "Kn1PMo41JE0m",
        "outputId": "3c754a42-7b30-4845-b77c-e35d2ef54d29"
      },
      "outputs": [
        {
          "output_type": "stream",
          "name": "stdout",
          "text": [
            "-----------------------------\n",
            "         Hello App           \n",
            "-----------------------------\n",
            "Tell us your name? Deepu\n",
            "Nice to meet you Deepu\n"
          ]
        }
      ],
      "source": [
        "print(\"-----------------------------\")\n",
        "print(\"         Hello App           \")\n",
        "print(\"-----------------------------\")\n",
        "\n",
        "#use input() to take input from the user\n",
        "user_name = input(\"Tell us your name? \")\n",
        "\n",
        "#concatenate the user_name variable\n",
        "greeting =  'Nice to meet you ' + user_name\n",
        "\n",
        "#print the final output\n",
        "print(greeting)"
      ]
    }
  ]
}
