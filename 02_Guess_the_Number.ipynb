{
  "nbformat": 4,
  "nbformat_minor": 0,
  "metadata": {
    "colab": {
      "provenance": [],
      "authorship_tag": "ABX9TyNGTwi4DDIHv7jxpJCgtK07",
      "include_colab_link": true
    },
    "kernelspec": {
      "name": "python3",
      "display_name": "Python 3"
    },
    "language_info": {
      "name": "python"
    }
  },
  "cells": [
    {
      "cell_type": "markdown",
      "metadata": {
        "id": "view-in-github",
        "colab_type": "text"
      },
      "source": [
        "<a href=\"https://colab.research.google.com/github/Manisha868/Python-s-Project/blob/main/02_Guess_the_Number.ipynb\" target=\"_parent\"><img src=\"https://colab.research.google.com/assets/colab-badge.svg\" alt=\"Open In Colab\"/></a>"
      ]
    },
    {
      "cell_type": "markdown",
      "source": [
        "Basic Code\n"
      ],
      "metadata": {
        "id": "vrkXY55tmAfW"
      }
    },
    {
      "cell_type": "code",
      "execution_count": 1,
      "metadata": {
        "colab": {
          "base_uri": "https://localhost:8080/"
        },
        "id": "FOA8kyMGSHEM",
        "outputId": "6e107222-05e8-4929-9424-7cbee61f9d06"
      },
      "outputs": [
        {
          "output_type": "stream",
          "name": "stdout",
          "text": [
            "--------------------------\n",
            "      Guess the number    \n",
            "--------------------------\n",
            "\n",
            "Guess a number between 0 and 100: 50\n",
            "50\n",
            "Sorry, Your guess number is lower than computer number.\n",
            "Guess a number between 0 and 100: 85\n",
            "85\n",
            "Sorry, Your guess number is lower than computer number.\n",
            "Guess a number between 0 and 100: 98\n",
            "98\n",
            "Your guess number is higher than the computer number.\n",
            "Guess a number between 0 and 100: 90\n",
            "90\n",
            "Sorry, Your guess number is lower than computer number.\n",
            "Guess a number between 0 and 100: 95\n",
            "95\n",
            "Your guess number is higher than the computer number.\n",
            "Guess a number between 0 and 100: 93\n",
            "93\n",
            "Your guess number is higher than the computer number.\n",
            "Guess a number between 0 and 100: 91\n",
            "91\n",
            "Sorry, Your guess number is lower than computer number.\n",
            "Guess a number between 0 and 100: 92\n",
            "92\n",
            "Congrats, You guessed the correct number.\n",
            "The End.\n"
          ]
        }
      ],
      "source": [
        "print('--------------------------')\n",
        "print('      Guess the number    ')\n",
        "print('--------------------------')\n",
        "print()\n",
        "\n",
        "#import the random module\n",
        "import random\n",
        "\n",
        "#randit is use to guess the numnber between given two numbers\n",
        "computer_num = random.randint(0,100)\n",
        "guess_num = -1\n",
        "\n",
        "\n",
        "while guess_num != computer_num:\n",
        "    guess_text = input('Guess a number between 0 and 100: ')\n",
        "    guess_num = int(guess_text)\n",
        "    print(guess_num)\n",
        "\n",
        "    if guess_num < computer_num:\n",
        "        print('Sorry, Your guess number is lower than computer number.')\n",
        "    elif guess_num > computer_num:\n",
        "        print(\"Your guess number is higher than the computer number.\")\n",
        "    else:\n",
        "        print('Congrats, You guessed the correct number.')\n",
        "print('The End.')\n"
      ]
    },
    {
      "cell_type": "markdown",
      "source": [
        "    There are only 4 attempts for the user. If user guess correct nuumber before within 4 attempts, then he will be winner.\n",
        "    If he guess before 4 attempts then code will automatic break, and he will be winner."
      ],
      "metadata": {
        "id": "OqmUD46uopY4"
      }
    },
    {
      "cell_type": "code",
      "source": [
        "print(\"*******************************\")\n",
        "print(\"         Guess the number       \")\n",
        "print(\"*******************************\")\n",
        "print(\"If you guess the same number, You will be winner.\")\n",
        "print()\n",
        "computer_num = random.randint(1,50)\n",
        "computer_num\n",
        "attempt_limit=4\n",
        "attempts=0\n",
        "\n",
        "while attempts < attempt_limit:\n",
        "\n",
        "  #Ask ther user to guess his number\n",
        "    guess_num=input(\"Tell your guess: \" )\n",
        "    #change the text to number\n",
        "    guess = int(guess_num)\n",
        "    attempts +=1\n",
        "\n",
        "    if computer_num == guess:\n",
        "      print(\"You are winner!!!!\")\n",
        "      break\n",
        "    elif guess < computer_num:\n",
        "      print(\"Sorry, You're guessed number is lower than the true number.\")\n",
        "    else:\n",
        "      print(\"Sorry, your number is too high.\")\n",
        "\n",
        "\n",
        "\n",
        "print(\"Bye\")"
      ],
      "metadata": {
        "colab": {
          "base_uri": "https://localhost:8080/"
        },
        "id": "Vk-YFsWBmytb",
        "outputId": "140a381e-451d-4acf-ecf3-0f621989d721"
      },
      "execution_count": 7,
      "outputs": [
        {
          "output_type": "stream",
          "name": "stdout",
          "text": [
            "*******************************\n",
            "         Guess the number       \n",
            "*******************************\n",
            "If you guess the same number, You will be winner.\n",
            "\n",
            "Tell your guess: 25\n",
            "You are winner!!!!\n",
            "Bye\n"
          ]
        }
      ]
    },
    {
      "cell_type": "code",
      "source": [],
      "metadata": {
        "id": "9htsmXLfnMOs"
      },
      "execution_count": 3,
      "outputs": []
    }
  ]
}